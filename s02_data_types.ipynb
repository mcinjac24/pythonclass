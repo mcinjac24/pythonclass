{
 "cells": [
  {
   "cell_type": "markdown",
   "metadata": {},
   "source": [
    "[Table of Contents](../../index.ipynb)"
   ]
  },
  {
   "cell_type": "markdown",
   "metadata": {},
   "source": [
    "# FRC Analytics with Python - Session 02\n",
    "# Data Types Part I\n",
    "**Last Updated: 24 Aug 2020**\n",
    "\n",
    "In session 01 we used Python to manipulate numbers and strings (i.e., text). Python can manipulate many other kinds of data as well. But there is an important concept we must understand before we move on: **data types**."
   ]
  },
  {
   "cell_type": "markdown",
   "metadata": {},
   "source": [
    "## I. Some Advice\n",
    "![Why does it work?](images/why_it_works_cartoon.png)\n",
    "\n",
    "It is at least as important to understand *why code works* as it is important to understand why it doesn't work. Spend some time thinking about the examples and exercises and why they work. Experiment by making modifications to the code. When it comes to code, every character, every symbol, and even many of the blank spaces are there for a reason.\n",
    "\n",
    "Some things can be best explained by flipping the logic. What if you didn't care if you ever used Python to do anything useful? Here are a few ways to ensure that this course is a waste of your time.\n",
    "\n",
    "1. Don't establish a routine for learning Python. Make sure at least two weeks elapse between sessions, so you can forget all of the old material before attempting anything new.\n",
    "2. Comprehension is overrated - go ahead and speed read the explanations and documentation.\n",
    "3. If the code works, don't ask yourself why it worked this time and didn't work last time. Just move on.\n",
    "4. Use copy and paste as much as you can. Don't practice the details of syntax by typing code by hand.\n",
    "5. Minimize mental effort. Immediately look up the answer to an exercise if the solution is not obvious.\n",
    "6. Avoid reading official documentation like the plague.\n",
    "7. Don't ever look at anyone else's code to see how they approached a problem.\n",
    "8. Don't talk about concepts or exercises with other students or mentors. Assume you are on your own if you get stuck.\n",
    "9. Don't try anything that's not mentioned in this course. Assume your computer will burst into flames if you do.\n",
    "10. Don't be curious and never ask why."
   ]
  },
  {
   "cell_type": "markdown",
   "metadata": {},
   "source": [
    "## II. A Refresher on Functions\n",
    "Remember how in session 01 we used `print()` to make Python display things, and we used `round()` to round decimal numbers to an integer? How about `len()` for finding out how many characters are in a string? These items are functions. \n",
    "\n",
    "We pass data to the function by placing the data in the parenthesis that follow the function name. The values that we pass to functions inside the parenthesis are called arguments.\n",
    "\n",
    "### Return Values\n",
    "In addition to sending values to functions as arguments, we can also get values *from* methods and functions. Check out the example below."
   ]
  },
  {
   "cell_type": "code",
   "execution_count": 3,
   "metadata": {},
   "outputs": [
    {
     "data": {
      "text/plain": [
       "11"
      ]
     },
     "execution_count": 3,
     "metadata": {},
     "output_type": "execute_result"
    }
   ],
   "source": [
    "# Returning a value from a function\n",
    "title3='doggybag088'\n",
    "num_chars = len(title3)\n",
    "num_chars"
   ]
  },
  {
   "cell_type": "markdown",
   "metadata": {},
   "source": [
    "The `len()` function gave us a value, which we assigned to a variable. In programming we generally say that a function *returns* a value. The value that is returned is often called the *return value*. Not all functions return values."
   ]
  },
  {
   "cell_type": "markdown",
   "metadata": {},
   "source": [
    "## III. Basic Data Types and the `type()` Function\n",
    "It's time to add a new function to our repertoire: `type()`."
   ]
  },
  {
   "cell_type": "code",
   "execution_count": 5,
   "metadata": {},
   "outputs": [
    {
     "data": {
      "text/plain": [
       "float"
      ]
     },
     "execution_count": 5,
     "metadata": {},
     "output_type": "execute_result"
    }
   ],
   "source": [
    "# What happens if we pass an integer to type()?\n",
    "type(5.0)"
   ]
  },
  {
   "cell_type": "code",
   "execution_count": 7,
   "metadata": {},
   "outputs": [
    {
     "data": {
      "text/plain": [
       "float"
      ]
     },
     "execution_count": 7,
     "metadata": {},
     "output_type": "execute_result"
    }
   ],
   "source": [
    "# What if we pass a different integer?\n",
    "type(-247.1)"
   ]
  },
  {
   "cell_type": "markdown",
   "metadata": {},
   "source": [
    "### A. Integers\n",
    "The `type()` function determines the data type of whatever value is placed in the parenthesis. For integers like 5 or -247, `type()` tells us that the value's data type is *int*, which is short for integer. Python integers can be positive or negative, and one of the great things about Python is that integers can be arbitrarily large. Their size is limited only by the amount of memory in your computer. I'll prove it. Run the next cell."
   ]
  },
  {
   "cell_type": "code",
   "execution_count": 10,
   "metadata": {},
   "outputs": [
    {
     "data": {
      "text/plain": [
       "2338596342560312442595710862722720665064672207636364400310485004017288890521427430898325769160480670632492342015601474301220174022861975226608298609179975385276917141963298119257196965405096183781152713737538501579389360719555687029942811431364172345618847847642807968062947470661627132609098925765340430073150527348277632740405454361963063746882808410435256794094955305258161643483512428721394994493685579639901433632026842300294862258378431669837572965947245935282056110048565646213871475769587726980069005987377316772463898568031205069486191236311315755208344269255074571058361203601434411845787237472555350788185583968557344285385545897276900425339408662242106854920181381441667176018733240072949721122695997046986964669940881991117891690198788588327938107102758574851343423831088895915200896784739427064111371769070479509861446566049242570386534912637230540542268852033177312620941448741303338053048056209382247528045074069679857868715306904011435732492180779055141679974487561813754143980732088030760917861251245478188965621504613068116226387795571675826368046649953593121591522751743745908689113827752095416333716232210008867954882641921454376710737179782001985967610929827136188923288616672349472820587806671974942978950144593308497737093842220860233065182851384902465558684685007526605389122735020116205281169361970333077774931752769429159838872085743990914377446975734565650735439228592917861531330521001988706853495749709840480529162949644862756899450893663297984498122507877051323959514226188274332613777985115248279578667347880936064893974566811012156647375729290478489768638235709458283231567228034589167609183607387849274924220672434947727415019320340023031359780840061646251672654990273394666682883660024885407248271061919083842709622383840002651769441582620184741025059682777623762101454529297011139295375352430729825347050998781422128889582241404796627761560030115577691510513235631855723106159530469587970532722611536073244920722917568356173815288355496531071423317835596161366673935807956385739291832266046845665269360874905429763758714278273305009193703684831748850886395928750785483392115902477320650038997047895250823511865701346996852598377980050511781157152208241806595034570719417409484040761586032795258131607853495031768264449454386543254570640901503099714533606148927858776700583144837452725081303187570156934175038627949481676527796037543472693635080946072305663534829669668972620834416568961209835145881446600031462751276917203341929669272630823158896517076493602312362653638751928032301346924591912277028247469391632008232162412627806293730356116685800378068655313169923302442476213836737735578160292559237004854081209672345856495126660380197378312265628340846417078736693684954961487309765916216820804743011964559648469830186756924486600048460216091127414988449487471194542238118456709312900578447598201751060008266714935815510005475425576920808199628162712952509516702493130207868641512664303725129334238073595299283819876138810233194196922010899253670622097595469971003362477850349332089676286403730687862176872104972108078303063978788057197366961402714718865018831782636435045735288258915325185332551628968780902403972186019144769978006255855059764436654390141490074715072274832839605768108780938504894337475515019890965798780132984448227196802570901332543774065597390844188500842943867046190295175863444055078320363623849746159147968953804890234282565116514664169172548068734734558288130846244084132480244199921285037411526912500367530702547161123722007702386488854024623853825401857857416156546643870984708518408852321957136938283427759090834025973716717530658078036660051654532916186548824710910106032057144832598311506165702795169843045305383520187480603218497542245837882467802306360386622617945005167202851662118963484201918865904216793934578642701446712790185481764488042528833037826094056976601974736319335089280490592975556775135833765839183952119816931886649841201150733871314169490193830044061940280381962952190180624141640112538658335040255553925583724640445199535854321614090274761987510505690513027987191187851993225518629050296055418490964257195201416773390364914537830354204512199236506159491137509231226322660099655662881606612213704164029198628747722515178707843144557731821150585537768121058552391050003232545725948788864972211191577988308677554546232589484818755253707495421726166692127264063664160161150776483017362328957212616044656126941719287051459345044974101655558479708831653719968949902946602539174824555972156968869585098570049112535675966810360551773660903504914985741121726304553137271353363913616273225018607737833757470876306200163706675248511801563823702829315516751395798157935833216182596223625639659713092633662014616889158342102866325185511208906040604544918558005578829601014157926405905777302268051750496385978266482826858744701870791859103845575377709776578091180331440134560056262553604434000616440926275973896512704696775251801339484381205657974015083107169841426957317470120492367139106625027401536304222958342204020655638924736195590246437548983682208630956596481197727664719524831872250287069851008328069754685304547008012119652840482571048523642108718071950527484752584408841388696124988685204648253616924054002237299535540226687710229010073048139208948993984405371348973122592305787022245954960554169919211385002184023767276653456860766519783113014170425800876152002627133382134888347369729149063197925401280987052900916126993063565654198208458953354893103064564984237909276299774930597355272216144617468201065910943222164550318980702004260182605035904294889971248410174434367997390742362123235482443756392422341184453021200939058022334565345477724050557880928732163779326276872723588967339891652759004514908002997445510884416908698342182071149097945889452401270835569674381796237748082738773205527594075502575490193668736745077834662412494250246384936962404637122505518970778056659889407197491076954996632369150211891580412923476023192432351707319397160749647683716098702790859725006130993208858433365707759041702213903562185026838949202960357586417564133325512058918439220228229535630297856791929557177335395892100039374386839234874952392741121309307807166203816866048853126630934369741158655790201830972217202467815059909195235640847655666587353648802418567287618621970653906097164363040473606220319982670265589149369621257655903491238535970913837910702606238761957297235528926045779484224218840569494478884908310195231820706328282039565483298418547818677265088010212835404840836744045165766742233716148310217003465827134368930278121382201836118897422106647178267448220989577554613559147984673695155626302238112779296454947737577717279487617194053498419172573161449505508320834498075370363322759433355294892199590471689843085337445427837900348224021334407123882942767326364177021772884102841865247597111302515446350913009878042881760327249748246566438073153570791702762652923526174708247242052007988783618027400053827810161738292247713473234229744912523368550066113260257694490513734564614907952592787681918230692142094360352742319307698990649548000800535854656777535713995197741731397761849408546019788043441768093925719122966904096325046056431256493687705438775157467205044800534093053698694395275894785467931254045983199659992917381521701392795303814677357547376620861582637723202748247726710708983191552412052057419562352564995493801043514369689096557558145586115470331484375233024529966934368636832645203867067191293903722818329270577068646235287678083529662679088249158932458522041058740445056514400723472123201306285183719739384567420116253861402812697466126345985841002893108213556400979927319459182939847979962293384625033181954249114311957096974939364900514581734148806493884171555734835902139088894385841882218462798685763278734803071721671259107001965352839547436922222054244066400190857119989294756829887047968821653575579866043699183784267060846873516470049843187765341893609872134959908247337059690604422415709902365172130867088391938711202354006602243327356071598293303347707612685060466203044823063171165796905033764765771768086315226670384811075023818648087259628077771631635316737852081060069799162038301692709549781143046126263943354717814307183518304809421074260692451448836649962895490255724573282915044374623994895401412727893339366542885730573784886870800944158776160804140961192383821775576100898703576349957619816369486196138569096464488327733717367533301192571935486772915238249873300132591431233237051265541282297592440812593324510200689679946895059143827302351022048628269159910234416541795891902863174702540010963447876209125920983484449799869936374051327671134695595215663000896790018264001435723218167091803987753158828936843296048616747646297062519407664475254391811549720178710642198794624669475316867252631913268803743099894260130498548642464031872188759373911613579971763659313782031381061698738219861862405985151023182584066705794901417557009197258150734416479316275574010978428580372356085531090352366710614287637862389441320459125327691435882338551640875037862515803399310490531526086192431921411760375191758619246572484574194413055083360681136738897932321822140518655399582856715992881302622552659848272663049147063786173958454440843605292523539010226951999551806621737484241540674521936178473176739684366115753716055324849401022592635540710666222732545459854704216341933354669369168280651516411694501584861427545547485351562500000000000000000000000000000000000000000000000000000000000000000000000000000000000000000000000000000000000000000000000000000000000000000000000000000000000000000000000000000000000000000000000000000000000000000000000000000000000000000000000000000000000000000000000000000000000000000000000000000000000000000000000000000000000000000000000000000000000000000000000000000000000000000000000000000000000000000000000000000000000000000000000000000000000000000000000000000000000000000000000000000000000000000000000000000000000000000000000000000000000000000000000000000000000000000000000000000000000000000000000000000000000000000000000000000000000000000000000000000000000000000000000000000000000000000000000000000000000000000000000000000000000000000000000000000000000000000000000000000000000000000000000000000000000000000000000000000000000000000000000000000000000000000000000000000000000000000000000000000000000000000000000000000000000000000000000000000000000000000000000000000000000000000000000000000000000000000000000000000000000000000000000000000000000000000000000000000000000000000000000000000000000000000000000000000000000000000000000000000000000000000000000000000000000000000000000000000000000000000000000000000000000000000000000000000000000000000000000000000000000000000000000000000000000000000000000000000000000000000000000000000000000000000000000000000000000000000000000000000000000000000000000000000000000000000000000000000000000000000000000000000000000000000000000000000000000000000000000000000000000000000000000000000000000000000000000000000000000000000000000000000000000000000000000000000000000000000000000000000000000000000000000000000000000000000000000000000000000000000000000000000000000000000000000000000000000000000000000000000000000000000000000000000000000000000000000000000000000000000000000000000000000000000000000000000000000000000000000000000000000000000000000000000000000000000000000000000000000000000000000000000000000000000000000000000000000000000000000000000000000000000000000000000000000000000000000000000000000000000000000000000000000000000000000000000000000000000000000000000000000000000000000000000000000000000000000000000000000000000000000000000000000000000000000000000000000000000000000000000000000000000000000000000000000000000000000000000000000000000000000000000000000000000000000000000000000000000000000000000000000000000000000000000000000000000000000000000000000000000000000000000000000000000000000000000000000000000000000000000000000000000000000000000000000000000000000000000000000000000000000000000000000000000000000000000000000000000000000000000000000000000000000000000000000000000000000000000000000000000000000000000000000000000000000000000000000000000000000000000000000000000000000000000000000000000000000000000000000000000000000000000000000000000000000000000000000000000000000000000000000000000000000000000000000000000000000000000000000000000000000000000000000000000000000000000000000000000000000000000000000000000000000000000000000000000000000000000000000000000000000000000000000000000000000000000000000000000000000000000000000000000000000000000000000000000000000000000000000000000000000000000000000000000000000000000000000000000000000000000000000000000000000000000000000000000000000000000000000000000000000000000000000000000000000000000000000000000000000000000000000000000000000000000000000000000000000000000000000000000000000000000000000000000000000000000000000000000000000000000000000000000000000000000000000000000000000000000000000000000000000000000000000000000000000000000000000000000000000000000000000000000000000000000000000000000000000000000000000000000000000000000000000000000000000000000000000000000000000000"
      ]
     },
     "execution_count": 10,
     "metadata": {},
     "output_type": "execute_result"
    }
   ],
   "source": [
    "3650**3650"
   ]
  },
  {
   "cell_type": "markdown",
   "metadata": {},
   "source": [
    "Ha! Try that in *Excel*! Unless the answer to the problem you are trying to solve is *#NUM!*, you will be disappointed.\n",
    "\n",
    "### B. Floats\n",
    "What happens if we pass a real number with digits to the right of the decimal point?"
   ]
  },
  {
   "cell_type": "code",
   "execution_count": 13,
   "metadata": {},
   "outputs": [
    {
     "data": {
      "text/plain": [
       "float"
      ]
     },
     "execution_count": 13,
     "metadata": {},
     "output_type": "execute_result"
    }
   ],
   "source": [
    "# How about a number with digits to the right of the decimal point?\n",
    "type(6.3)"
   ]
  },
  {
   "cell_type": "markdown",
   "metadata": {},
   "source": [
    "The data type *float* refers to *floating point arithmetic*, which is the mechanism computers use to represent non-integer real numbers in binary."
   ]
  },
  {
   "cell_type": "code",
   "execution_count": 14,
   "metadata": {},
   "outputs": [
    {
     "data": {
      "text/plain": [
       "float"
      ]
     },
     "execution_count": 14,
     "metadata": {},
     "output_type": "execute_result"
    }
   ],
   "source": [
    "# What data type is this?\n",
    "type(5.0)"
   ]
  },
  {
   "cell_type": "markdown",
   "metadata": {},
   "source": [
    "Python assumes that the `5.0` should be a float, even though it's equivalent to an integer from a mathematical perspective.\n",
    "\n",
    "Floats can be written in scientific notation>"
   ]
  },
  {
   "cell_type": "code",
   "execution_count": 15,
   "metadata": {},
   "outputs": [
    {
     "name": "stdout",
     "output_type": "stream",
     "text": [
      "Gravity constant: 6.67408e-11\n",
      "Planck's constant: 6.62607004e-34\n"
     ]
    }
   ],
   "source": [
    "G = 6.67408e-11\n",
    "h = 6.62607004E-34\n",
    "print(\"Gravity constant:\", G)\n",
    "print(\"Planck's constant:\", h)"
   ]
  },
  {
   "cell_type": "markdown",
   "metadata": {},
   "source": [
    "What happens if we mix data types in an equation?"
   ]
  },
  {
   "cell_type": "code",
   "execution_count": 16,
   "metadata": {},
   "outputs": [
    {
     "name": "stdout",
     "output_type": "stream",
     "text": [
      "10.0\n"
     ]
    },
    {
     "data": {
      "text/plain": [
       "float"
      ]
     },
     "execution_count": 16,
     "metadata": {},
     "output_type": "execute_result"
    }
   ],
   "source": [
    "# Add integer to a float\n",
    "int_5 = 5\n",
    "float_5 = 5.0\n",
    "\n",
    "print(int_5 + float_5)\n",
    "type(int_5 + float_5)"
   ]
  },
  {
   "cell_type": "markdown",
   "metadata": {},
   "source": [
    "Python has no trouble adding a float to an integer, but the result is a float. It makes sense if you think about it. The float could have a fractional part. If we added such a float to an integer and then converted the result to an integer, we would lose the fractional part of the sum. In general, Python will choose the data type that has greater precision. A float has more precision than an integer because it includes fractional values."
   ]
  },
  {
   "cell_type": "markdown",
   "metadata": {},
   "source": [
    "### C. Strings\n",
    "By now, you can likely guess what will happen if we pass a string to `type()`."
   ]
  },
  {
   "cell_type": "code",
   "execution_count": 18,
   "metadata": {},
   "outputs": [
    {
     "data": {
      "text/plain": [
       "int"
      ]
     },
     "execution_count": 18,
     "metadata": {},
     "output_type": "execute_result"
    }
   ],
   "source": [
    "# Sending text to type()\n",
    "type(1)"
   ]
  },
  {
   "cell_type": "markdown",
   "metadata": {},
   "source": [
    "No big surprise - the data type for strings is *str*.\n",
    "\n",
    "What happens if we try to use a string in an equation?"
   ]
  },
  {
   "cell_type": "code",
   "execution_count": 20,
   "metadata": {},
   "outputs": [
    {
     "name": "stdout",
     "output_type": "stream",
     "text": [
      "12\n"
     ]
    },
    {
     "ename": "NameError",
     "evalue": "name 'int_y' is not defined",
     "output_type": "error",
     "traceback": [
      "\u001b[0;31m---------------------------------------------------------------------------\u001b[0m",
      "\u001b[0;31mNameError\u001b[0m                                 Traceback (most recent call last)",
      "\u001b[0;32m<ipython-input-20-f6c918c38e3d>\u001b[0m in \u001b[0;36m<module>\u001b[0;34m\u001b[0m\n\u001b[1;32m      4\u001b[0m \u001b[0;34m\u001b[0m\u001b[0m\n\u001b[1;32m      5\u001b[0m \u001b[0mprint\u001b[0m\u001b[0;34m(\u001b[0m\u001b[0mint_6\u001b[0m \u001b[0;34m+\u001b[0m \u001b[0mstr_6\u001b[0m\u001b[0;34m)\u001b[0m\u001b[0;34m\u001b[0m\u001b[0;34m\u001b[0m\u001b[0m\n\u001b[0;32m----> 6\u001b[0;31m \u001b[0mtype\u001b[0m\u001b[0;34m(\u001b[0m\u001b[0mint_y\u001b[0m \u001b[0;34m+\u001b[0m \u001b[0mstr_6\u001b[0m\u001b[0;34m)\u001b[0m\u001b[0;34m\u001b[0m\u001b[0;34m\u001b[0m\u001b[0m\n\u001b[0m",
      "\u001b[0;31mNameError\u001b[0m: name 'int_y' is not defined"
     ]
    }
   ],
   "source": [
    "# Add integer to a string\n",
    "int_6 = 6\n",
    "str_6 = 6\n",
    "\n",
    "print(int_6 + str_6)\n",
    "type(int_y + str_6)"
   ]
  },
  {
   "cell_type": "markdown",
   "metadata": {},
   "source": [
    "Whoa. Python didn't like that at all. The `+` operation is not defined for an integer and a string. There is a good reason. In this example our string represents a number. But a string could also be a word. What does `6 + robot` even mean?\n",
    "\n",
    "It's for the best if Python just throws a type error. If you are trying to add 6 and '6', you are probably doing something you shouldn't be doing."
   ]
  },
  {
   "cell_type": "markdown",
   "metadata": {},
   "source": [
    "## IV. Type Conversions\n",
    "Each of these data types has its own built in function.\n",
    "* `int()`\n",
    "* `float()`\n",
    "* `str()`\n",
    "\n",
    "We will start with `int()`."
   ]
  },
  {
   "cell_type": "code",
   "execution_count": 26,
   "metadata": {},
   "outputs": [
    {
     "name": "stdout",
     "output_type": "stream",
     "text": [
      "7.5 : <class 'float'>\n",
      "7 : <class 'int'>\n"
     ]
    }
   ],
   "source": [
    "# Converting a float to an integer\n",
    "floatvar = 7.5\n",
    "float_7 = 7.5\n",
    "print(float_7, ':', type(float_7))\n",
    "newvar = int(floatvar)\n",
    "print(newvar, ':', type(newvar))"
   ]
  },
  {
   "cell_type": "markdown",
   "metadata": {},
   "source": [
    "The `int()` function converts whatever is passed to it to an integer. Remember when we caused an error in the last session by trying to add an integer and a string? The `int()` function will let us do that, but with some limitations."
   ]
  },
  {
   "cell_type": "code",
   "execution_count": 28,
   "metadata": {},
   "outputs": [
    {
     "ename": "TypeError",
     "evalue": "unsupported operand type(s) for +: 'int' and 'str'",
     "output_type": "error",
     "traceback": [
      "\u001b[0;31m---------------------------------------------------------------------------\u001b[0m",
      "\u001b[0;31mTypeError\u001b[0m                                 Traceback (most recent call last)",
      "\u001b[0;32m<ipython-input-28-41584de10a01>\u001b[0m in \u001b[0;36m<module>\u001b[0;34m\u001b[0m\n\u001b[1;32m      1\u001b[0m \u001b[0;31m# Adding an integer and a string.\u001b[0m\u001b[0;34m\u001b[0m\u001b[0;34m\u001b[0m\u001b[0;34m\u001b[0m\u001b[0m\n\u001b[0;32m----> 2\u001b[0;31m \u001b[0;36m13\u001b[0m \u001b[0;34m+\u001b[0m \u001b[0;34m(\u001b[0m\u001b[0;34m'18'\u001b[0m\u001b[0;34m)\u001b[0m\u001b[0;34m\u001b[0m\u001b[0;34m\u001b[0m\u001b[0m\n\u001b[0m",
      "\u001b[0;31mTypeError\u001b[0m: unsupported operand type(s) for +: 'int' and 'str'"
     ]
    }
   ],
   "source": [
    "# Adding an integer and a string.\n",
    "13 + ('18')"
   ]
  },
  {
   "cell_type": "markdown",
   "metadata": {},
   "source": [
    "If we pass the string `'18'` to `int()` then the addition proceeds just fine. The caveat is the string has to represent an integer, otherwise `int()` will throw an error."
   ]
  },
  {
   "cell_type": "code",
   "execution_count": 29,
   "metadata": {},
   "outputs": [
    {
     "ename": "ValueError",
     "evalue": "invalid literal for int() with base 10: '18b'",
     "output_type": "error",
     "traceback": [
      "\u001b[0;31m---------------------------------------------------------------------------\u001b[0m",
      "\u001b[0;31mValueError\u001b[0m                                Traceback (most recent call last)",
      "\u001b[0;32m<ipython-input-29-934fdb7ec242>\u001b[0m in \u001b[0;36m<module>\u001b[0;34m\u001b[0m\n\u001b[1;32m      1\u001b[0m \u001b[0;31m# Attempting to convert a string with non-digit characters causes a Value Error\u001b[0m\u001b[0;34m\u001b[0m\u001b[0;34m\u001b[0m\u001b[0;34m\u001b[0m\u001b[0m\n\u001b[0;32m----> 2\u001b[0;31m \u001b[0mint\u001b[0m\u001b[0;34m(\u001b[0m\u001b[0;34m'18b'\u001b[0m\u001b[0;34m)\u001b[0m\u001b[0;34m\u001b[0m\u001b[0;34m\u001b[0m\u001b[0m\n\u001b[0m",
      "\u001b[0;31mValueError\u001b[0m: invalid literal for int() with base 10: '18b'"
     ]
    }
   ],
   "source": [
    "# Attempting to convert a string with non-digit characters causes a Value Error\n",
    "int('18b')"
   ]
  },
  {
   "cell_type": "code",
   "execution_count": 30,
   "metadata": {},
   "outputs": [
    {
     "ename": "ValueError",
     "evalue": "invalid literal for int() with base 10: '3.14'",
     "output_type": "error",
     "traceback": [
      "\u001b[0;31m---------------------------------------------------------------------------\u001b[0m",
      "\u001b[0;31mValueError\u001b[0m                                Traceback (most recent call last)",
      "\u001b[0;32m<ipython-input-30-659db7bb5d80>\u001b[0m in \u001b[0;36m<module>\u001b[0;34m\u001b[0m\n\u001b[1;32m      1\u001b[0m \u001b[0;31m# Attempting to convert a number that is not an integer causes a Value Error\u001b[0m\u001b[0;34m\u001b[0m\u001b[0;34m\u001b[0m\u001b[0;34m\u001b[0m\u001b[0m\n\u001b[0;32m----> 2\u001b[0;31m \u001b[0mint\u001b[0m\u001b[0;34m(\u001b[0m\u001b[0;34m'3.14'\u001b[0m\u001b[0;34m)\u001b[0m\u001b[0;34m\u001b[0m\u001b[0;34m\u001b[0m\u001b[0m\n\u001b[0m",
      "\u001b[0;31mValueError\u001b[0m: invalid literal for int() with base 10: '3.14'"
     ]
    }
   ],
   "source": [
    "# Attempting to convert a number that is not an integer causes a Value Error\n",
    "int('3.14')"
   ]
  },
  {
   "cell_type": "code",
   "execution_count": 31,
   "metadata": {},
   "outputs": [
    {
     "data": {
      "text/plain": [
       "13.0"
      ]
     },
     "execution_count": 31,
     "metadata": {},
     "output_type": "execute_result"
    }
   ],
   "source": [
    "# Use float to convert non-integer numbers\n",
    "5.5 + float('7.5')"
   ]
  },
  {
   "cell_type": "markdown",
   "metadata": {},
   "source": [
    "Read the following line of code before you run it. What will it do? Then run the code to find out."
   ]
  },
  {
   "cell_type": "code",
   "execution_count": 32,
   "metadata": {},
   "outputs": [
    {
     "data": {
      "text/plain": [
       "'1318'"
      ]
     },
     "execution_count": 32,
     "metadata": {},
     "output_type": "execute_result"
    }
   ],
   "source": [
    "# Read this and predict the result before you run it.\n",
    "str(13) + \"18\""
   ]
  },
  {
   "cell_type": "markdown",
   "metadata": {},
   "source": [
    "1. The `str()` function converted the integer `13` to a string.\n",
    "2. The `+` operator works just fine on two strings. But instead of performing mathematical addition, it performs *string concatenation*, which is a fancy way of saying it joins the two strings together."
   ]
  },
  {
   "cell_type": "markdown",
   "metadata": {},
   "source": [
    "### Type Conversion Exercises\n",
    "\n",
    "**Ex IV.1.** \n",
    "Check out the [quarterfinals match results](https://www.thebluealliance.com/match/2020wasno_qf2m1) from the 2020 Pacific Northwest district competition at Glacier Peak H.S. Snohomish, WA. In this game, which is called *Infinite Recharge*, teams score points by shooting power cells (i.e., yellow balls) into either the lower port, the outer port, or the small inner port. [Watch the match video](https://youtu.be/J3XYsLmXf0I) to see for yourself. Watch [this video for an overview of game rules.](https://youtu.be/gmiYWTmFRVE)\n",
    "\n",
    "The game has two phases. During the first 15 seconds the robots are autonomous, meaning they are under computer control and humans are not allowed to touch the robot controls. The remainder of the match is the teleop period -- humans are allowed to control the robots during this period.\n",
    "\n",
    "Inspect the [match results table.](https://www.thebluealliance.com/match/2020wasno_qf2m1) Figure out how many lower, inner, and outer power cells were scored by both the red and blue alliances during the teleop phase. To find this, look for the *Teleop Power Cells* row in the table. Lower-port goals are marked by a rectangle, outer port goals are marked by a hexagon, and inner-port goals are marked by a circle. Calculate the total number of teleop power cell points for each alliance using data you found in the match results table and the three variables below. You will have to convert the data types to complete the calculation. Save the results for each alliance to a variable."
   ]
  },
  {
   "cell_type": "code",
   "execution_count": 33,
   "metadata": {},
   "outputs": [],
   "source": [
    "# Ex IV.1\n",
    "# Points for scoring power cells in teleop phase.\n",
    "inner_port_points_tele = \"3\"\n",
    "outer_port_points_tele = \"2\"\n",
    "lower_port_points_tele = \"1\""
   ]
  },
  {
   "cell_type": "markdown",
   "metadata": {},
   "source": [
    "**Ex IV.2** The rules for power cell points in the autonomous phase are the same as in teleop, except that the points are doubled. From the match results table, determine how many lower-port, outer-port, and inner-port goals were scored by both the red and blue alliance during the autonomous phase. Save the results for each alliance to a variable."
   ]
  },
  {
   "cell_type": "code",
   "execution_count": null,
   "metadata": {},
   "outputs": [],
   "source": [
    "# Ex IV.2\n",
    "ineerblue = 0\n",
    "middleblue = 6\n",
    "outerblue = 0\n",
    "ineerred = 0\n",
    "middlered = 1\n",
    "outerred = 3"
   ]
  },
  {
   "cell_type": "markdown",
   "metadata": {},
   "source": [
    "**Ex IV.3** Using the variables you created in exercises IV.1 and IV.2, concatenate strings and use print statements to generate the following output in Python, where u, v, x, and y are the point values calculated in exercises IV.1 and IV.2. There should be three `print()` statements, one for each row of output. Concatenate strings to generate each row. You will need to convert the integer point values to strings.\n",
    "\n",
    "```bash\n",
    "                Autonomous     Teleop\n",
    "Blue Alliance:  u              v\n",
    "Red Alliance:   x              y\n",
    "```"
   ]
  },
  {
   "cell_type": "code",
   "execution_count": null,
   "metadata": {},
   "outputs": [],
   "source": [
    "# Ex IV.3\n",
    "\n"
   ]
  },
  {
   "cell_type": "markdown",
   "metadata": {},
   "source": [
    "## V. Objects and Methods\n",
    "Consider the following code cell."
   ]
  },
  {
   "cell_type": "code",
   "execution_count": 34,
   "metadata": {},
   "outputs": [
    {
     "data": {
      "text/plain": [
       "'THIS TEXT IS UPPER CASE.'"
      ]
     },
     "execution_count": 34,
     "metadata": {},
     "output_type": "execute_result"
    }
   ],
   "source": [
    "# Method Example\n",
    "str1 = 'this text is upper case.'\n",
    "str1.upper()"
   ]
  },
  {
   "cell_type": "markdown",
   "metadata": {},
   "source": [
    "We appear to have converted the text in the *str1* variable to upper case. We used something that looks like a function `upper()` to do the conversion, but we used it differently than we use other functions. For example, if we want to know the length of a string, we just type the function name `len`, add some parentheses to it, and put the string variable inside the parenthesis, like so:"
   ]
  },
  {
   "cell_type": "code",
   "execution_count": 35,
   "metadata": {},
   "outputs": [
    {
     "data": {
      "text/plain": [
       "24"
      ]
     },
     "execution_count": 35,
     "metadata": {},
     "output_type": "execute_result"
    }
   ],
   "source": [
    "# Get the length of a sting\n",
    "len(str1)"
   ]
  },
  {
   "cell_type": "markdown",
   "metadata": {},
   "source": [
    "So why don't we convert *str1* to upper case like this?\n",
    "```Python\n",
    "upper(str1)\n",
    "```\n",
    "\n",
    "First of all, trying to convert an integer or float to upper case makes no sense. Converting a variable to upper case only makes sense if the variable is a string. The designers of Python wanted `upper()` to only apply to strings, so they designed `upper()` as a **method**, not a function. Methods are different because they must be called on objects. In the case of the `upper()` method, we must have a string object before we can call it.\n",
    "\n",
    "We will now take a short break from discussing methods so we can discuss objects. What's an object? Everything! Integers are objects. Strings are objects. Everything that can be assigned to a variable is an object. The concept of an object is different than the concept of a data type. Consider the following code cell:"
   ]
  },
  {
   "cell_type": "code",
   "execution_count": 36,
   "metadata": {},
   "outputs": [
    {
     "name": "stdout",
     "output_type": "stream",
     "text": [
      "<class 'int'>\n",
      "<class 'int'>\n",
      "4555174128\n",
      "4555174096\n"
     ]
    }
   ],
   "source": [
    "# Objects have unique IDs\n",
    "var1 = 1318\n",
    "var2 = 1318\n",
    "print(type(var1))\n",
    "print(type(var2))\n",
    "print(id(var1))\n",
    "print(id(var2))"
   ]
  },
  {
   "cell_type": "markdown",
   "metadata": {},
   "source": [
    "Every object in Python is assigned a unique identification (ID) number. As an analyst, you will rarely, if ever, need to work with Python's object ID numbers. But Python provides a built-in `id()` function that will return the ID number, in case you want to see it. Now consider the code above. We created two variables, each holding the same integer value. But we got two different ID values when we passed them to `id()`. This means Python created two different copies of *1318* in memory. \n",
    "* *var1* and *var2* are the same data type: int\n",
    "* *var1* and *var2* have the same value: 1318\n",
    "* But *var1* and *var2* are different objects, as indicated by the two different ID values.\n",
    "\n",
    "Now back to methods. They key point is that we can't call a method without an object. We can call a function like `print()` all day long without an object (calling `print()` without parameters displays a blank line). But methods are different.\n",
    "\n",
    "When we called `upper()`, we called it on a string object. In terms of syntax, we typed the string variable name, *str1*, typed a period, and then typed `upper()`. The `upper()` method converted it's object, *str1*, to upper case.\n",
    "\n",
    "Methods can have return values just like functions do. The return value of the `.upper()` method is a string object that has been converted to upper case.\n",
    "\n",
    "We can call methods on strings even if we haven't assigned them to a variable. See the next cell."
   ]
  },
  {
   "cell_type": "code",
   "execution_count": 37,
   "metadata": {},
   "outputs": [
    {
     "data": {
      "text/plain": [
       "'ROBOT'"
      ]
     },
     "execution_count": 37,
     "metadata": {},
     "output_type": "execute_result"
    }
   ],
   "source": [
    "# Calling methods on literal values\n",
    "\"robot\".upper()"
   ]
  },
  {
   "cell_type": "markdown",
   "metadata": {},
   "source": [
    "See below for more methods that can be called on strings. [The full list of string methods is in the Python documentation.](https://docs.python.org/3/library/stdtypes.html#text-sequence-type-str)"
   ]
  },
  {
   "cell_type": "code",
   "execution_count": 38,
   "metadata": {},
   "outputs": [
    {
     "data": {
      "text/plain": [
       "\"don't shout\""
      ]
     },
     "execution_count": 38,
     "metadata": {},
     "output_type": "execute_result"
    }
   ],
   "source": [
    "# Convert to lower case\n",
    "\"DON'T SHOUT\".lower()"
   ]
  },
  {
   "cell_type": "code",
   "execution_count": 46,
   "metadata": {},
   "outputs": [
    {
     "data": {
      "text/plain": [
       "True"
      ]
     },
     "execution_count": 46,
     "metadata": {},
     "output_type": "execute_result"
    }
   ],
   "source": [
    "# Check that string only contains digits\n",
    "\"13\".isdigit()"
   ]
  },
  {
   "cell_type": "code",
   "execution_count": 48,
   "metadata": {},
   "outputs": [
    {
     "data": {
      "text/plain": [
       "False"
      ]
     },
     "execution_count": 48,
     "metadata": {},
     "output_type": "execute_result"
    }
   ],
   "source": [
    "# Check that string is upper case\n",
    "str2 = \"DoH!\"\n",
    "str2.isupper()"
   ]
  },
  {
   "cell_type": "code",
   "execution_count": 49,
   "metadata": {},
   "outputs": [
    {
     "data": {
      "text/plain": [
       "(3039929748475085, 562949953421312)"
      ]
     },
     "execution_count": 49,
     "metadata": {},
     "output_type": "execute_result"
    }
   ],
   "source": [
    "five = 5.4\n",
    "five.as_integer_ratio()"
   ]
  },
  {
   "cell_type": "markdown",
   "metadata": {},
   "source": [
    "### Method Exercises\n",
    "\n",
    "**Ex V.1** Internally, computers store numbers as binary values. One is 0001, two is 0010, three is 0011, four is 0100, five is 0101, and so on. (Actually, this is a simplification of what's really going on, but it will do for now. For integer data types that can be both positive and negative, computers use a binary format called [two's complement.](https://en.wikipedia.org/wiki/Two%27s_complement) It's not necessary to understand this. I included the link in case you are curious.) Each digit in binary requires one bit of storage. A bit is the lowest level of computer memory -- it can represent a value of 0 or 1. But that's it. With two bits, we can represent the integers 0 through 3. A fourth bit is required if we want to represent the numbers 4 through 7.\n",
    "\n",
    "The integer data type has a method called [`bit_length()`](https://docs.python.org/3/library/stdtypes.html#numeric-types-int-float-complex) (scroll down a bit to find the documentation), which returns the number of bits required to represent a number. Use the method to determine how many bits are required to store the number 1318. (Forget about negative numbers for now.) Hint: first assign the number 1318 to a variable."
   ]
  },
  {
   "cell_type": "code",
   "execution_count": 57,
   "metadata": {},
   "outputs": [
    {
     "data": {
      "text/plain": [
       "2048"
      ]
     },
     "execution_count": 57,
     "metadata": {},
     "output_type": "execute_result"
    }
   ],
   "source": [
    "# Ex V.1\n",
    "2 ** 11\n",
    "#11"
   ]
  },
  {
   "cell_type": "markdown",
   "metadata": {},
   "source": [
    "**Ex V.2** Use the bit_length() method to determine the largest number that can be represented with eight bits. Again, assume that we only have to represent positive integers. You will have to do some guessing, or you could use the formula:\n",
    "$$\\textrm{bits} = \\lfloor\\log_2{(\\textrm{integer})}\\rfloor + 1$$\n",
    "\n",
    "The $\\lfloor \\: \\rfloor$ notation stands for *floor* and means to round down to the nearest integer. Don't worry if you are not familiar with logarithms. Guessing should work fine."
   ]
  },
  {
   "cell_type": "code",
   "execution_count": 58,
   "metadata": {},
   "outputs": [],
   "source": [
    "# Ex V.2\n"
   ]
  },
  {
   "cell_type": "markdown",
   "metadata": {},
   "source": [
    "**Ex V.3** Use the `.title()` method of the *str* data type to convert the following book titles to title case (first letter of each word capitalized). Print each title in title case using the `print()` function."
   ]
  },
  {
   "cell_type": "code",
   "execution_count": 64,
   "metadata": {},
   "outputs": [
    {
     "name": "stdout",
     "output_type": "stream",
     "text": [
      "The Sirens Of Titen\n",
      "The Hitchhikers Guide To The Galaxy\n",
      "The Lefthand Of Darkness\n"
     ]
    }
   ],
   "source": [
    "# Ex V.3.a\n",
    "title1 = \"the sirens of titen\"\n",
    "title2 = \"THE HITCHHIKERS GUIDE TO THE GALAXY\"\n",
    "title3 = \"tHE lEFTHAND oF dArKnEsS\"\n",
    "print(title1.title())\n",
    "print(title2.title())\n",
    "print(title3.title())"
   ]
  },
  {
   "cell_type": "markdown",
   "metadata": {},
   "source": [
    "## VI. Lists - Our First Composite Data Type\n",
    "So far we've experimented with three data types: integers, floating point values, and strings. Integers and floats are **scalar** data types. Objects of these types consist of only a single number that cannot be broken down into smaller values (which is why they are sometimes called *atomic*). Strings, which consist of a sequence of characters, are not exactly scalar. We saw in the last session how we can use slicing to break strings up into smaller sequences of characters. Python strings are usually described as a sequence data type.\n",
    "\n",
    "Doing calculations with individual strings and numbers is fine, but we need composite data types for more powerful calculations and analysis. A composite data type is a type whose objects can contain other objects. The first composite data type we'll study is the Python list. "
   ]
  },
  {
   "cell_type": "code",
   "execution_count": 67,
   "metadata": {},
   "outputs": [
    {
     "name": "stdout",
     "output_type": "stream",
     "text": [
      "Length of list1: 6\n",
      "First element of list1: 10\n"
     ]
    }
   ],
   "source": [
    "# A Python list\n",
    "list1 = [10, 2, 3, 4, 5, 7]\n",
    "print(\"Length of list1:\", len(list1))\n",
    "print(\"First element of list1:\", list1[0])"
   ]
  },
  {
   "cell_type": "markdown",
   "metadata": {},
   "source": [
    "In the code block above, we created a list and assigned it to the `list1` variable. The list contains five integers. We can use the `len()` function to get the length of the list, and we can use the same indexing and slicing techniques that we used on strings to extract individual elements or subsets of the list. If it's been a while since you've worked through session 01, you might want to go back and review it."
   ]
  },
  {
   "cell_type": "code",
   "execution_count": 68,
   "metadata": {},
   "outputs": [
    {
     "name": "stdout",
     "output_type": "stream",
     "text": [
      "Last element of list1: 7\n",
      "Middle three elements of list1: [2, 3, 4]\n",
      "List1 in reverse order: [7, 5, 4, 3, 2, 10]\n"
     ]
    }
   ],
   "source": [
    "# List indexing and slicing techniques\n",
    "print(\"Last element of list1:\", list1[-1])\n",
    "print(\"Middle three elements of list1:\", list1[1:4])\n",
    "print(\"List1 in reverse order:\", list1[::-1])"
   ]
  },
  {
   "cell_type": "markdown",
   "metadata": {},
   "source": [
    "What is the data type of list1?"
   ]
  },
  {
   "cell_type": "code",
   "execution_count": 69,
   "metadata": {},
   "outputs": [
    {
     "name": "stdout",
     "output_type": "stream",
     "text": [
      "list1 data type: <class 'list'>\n",
      "Data type of list1 element: <class 'int'>\n"
     ]
    }
   ],
   "source": [
    "# Data Type of list1\n",
    "print(\"list1 data type:\", type(list1))\n",
    "# Data type of an element of list1\n",
    "print(\"Data type of list1 element:\", type(list1[0]))"
   ]
  },
  {
   "cell_type": "markdown",
   "metadata": {},
   "source": [
    "By using the `type()` function, we can see that the individual elements within the list retain their original data type, but the list object has a data type of list.\n",
    "\n",
    "By the way, did you notice that we're using the `print()` function a bit differently? We're passing two arguments instead of one. The `print()` statement displays both arguments on the same line of output, separated by a space. We can pass as many arguments to `print()` as we want and it will display them all.\n",
    "\n",
    "In our first example, every element in the list had the same data type. But that's not a requirement. A single list can contain many different data types."
   ]
  },
  {
   "cell_type": "code",
   "execution_count": 75,
   "metadata": {},
   "outputs": [
    {
     "data": {
      "text/plain": [
       "[1, '2', 3.0, 'four', [5, '8']]"
      ]
     },
     "execution_count": 75,
     "metadata": {},
     "output_type": "execute_result"
    }
   ],
   "source": [
    "list2 = [1, \"2\", 3.0, \"four\", [5, \"8\"], [1, 2]]\n",
    "list2"
   ]
  },
  {
   "cell_type": "markdown",
   "metadata": {},
   "source": [
    "The `list2` object contains an integer, a couple strings, a float, and *another list*. Yes, lists can contain lists. A list contained within another list is called a nested list. It's not hard to access elements of the nested list:"
   ]
  },
  {
   "cell_type": "code",
   "execution_count": 84,
   "metadata": {},
   "outputs": [
    {
     "data": {
      "text/plain": [
       "'8'"
      ]
     },
     "execution_count": 84,
     "metadata": {},
     "output_type": "execute_result"
    }
   ],
   "source": [
    "# First element of nested list\n",
    "list2[4][1]"
   ]
  },
  {
   "cell_type": "markdown",
   "metadata": {},
   "source": [
    "The `[-1]` after `list2` extracts the final element of `list2`, which is itself a list. The `[0]` extracts the first element of this nested list."
   ]
  },
  {
   "cell_type": "markdown",
   "metadata": {},
   "source": [
    "List objects have several useful methods. One method that is used frequently is `.append()`."
   ]
  },
  {
   "cell_type": "code",
   "execution_count": 85,
   "metadata": {},
   "outputs": [
    {
     "data": {
      "text/plain": [
       "[10, 2, 3, 4, 5, 7, 6]"
      ]
     },
     "execution_count": 85,
     "metadata": {},
     "output_type": "execute_result"
    }
   ],
   "source": [
    "list1.append(6)\n",
    "list1"
   ]
  },
  {
   "cell_type": "markdown",
   "metadata": {},
   "source": [
    "What happens if we append a list?"
   ]
  },
  {
   "cell_type": "code",
   "execution_count": 86,
   "metadata": {},
   "outputs": [
    {
     "data": {
      "text/plain": [
       "['I',\n",
       " 'ultimately',\n",
       " 'got',\n",
       " 'into',\n",
       " 'robotics',\n",
       " 'because',\n",
       " 'for',\n",
       " 'me',\n",
       " ',',\n",
       " ['it', 'was', 'the', 'best', 'way', 'to', 'study', 'intelligence', '.']]"
      ]
     },
     "execution_count": 86,
     "metadata": {},
     "output_type": "execute_result"
    }
   ],
   "source": [
    "# Passing a list to the append method\n",
    "list3 = [\"I\", \"ultimately\", \"got\", \"into\", \"robotics\", \"because\", \"for\", \"me\", \",\"]\n",
    "list4 = [\"it\", \"was\", \"the\", \"best\", \"way\", \"to\", \"study\", \"intelligence\", \".\"]\n",
    "list3.append(list4)\n",
    "list3"
   ]
  },
  {
   "cell_type": "markdown",
   "metadata": {},
   "source": [
    "The `append()` method nested `list3` inside `list4`. That may or may not have been what we wanted. If we want to create a longer list with no nesting, we can just use the `+` operator."
   ]
  },
  {
   "cell_type": "code",
   "execution_count": 98,
   "metadata": {},
   "outputs": [
    {
     "data": {
      "text/plain": [
       "['I',\n",
       " 'ultimately',\n",
       " 'got',\n",
       " 'into',\n",
       " 'robotics',\n",
       " 'because',\n",
       " 'for',\n",
       " 'me',\n",
       " ',',\n",
       " 'it',\n",
       " 'was',\n",
       " 'the',\n",
       " 'best',\n",
       " 'way',\n",
       " 'to',\n",
       " 'study',\n",
       " 'intelligence',\n",
       " '.']"
      ]
     },
     "execution_count": 98,
     "metadata": {},
     "output_type": "execute_result"
    }
   ],
   "source": [
    "# Joining two lists with `+`\n",
    "list3 = [\"I\", \"ultimately\", \"got\", \"into\", \"robotics\", \"because\", \"for\", \"me\", \",\"]\n",
    "list4 = [\"it\", \"was\", \"the\", \"best\", \"way\", \"to\", \"study\", \"intelligence\", \".\"]\n",
    "list3 + list4"
   ]
  },
  {
   "cell_type": "markdown",
   "metadata": {},
   "source": [
    "By the way, the quote is by [Sebastian Thrun](https://en.wikipedia.org/wiki/Sebastian_Thrun), who is one of the founders of Google X and led Google's self-driving car project."
   ]
  },
  {
   "cell_type": "markdown",
   "metadata": {},
   "source": [
    "Another very useful method for lists is the `.pop()` method."
   ]
  },
  {
   "cell_type": "code",
   "execution_count": 88,
   "metadata": {},
   "outputs": [
    {
     "name": "stdout",
     "output_type": "stream",
     "text": [
      ".\n",
      "intelligence\n",
      "it\n"
     ]
    }
   ],
   "source": [
    "# The .pop() method\n",
    "print(list4.pop())\n",
    "print(list4.pop())\n",
    "print(list4.pop(0))"
   ]
  },
  {
   "cell_type": "markdown",
   "metadata": {},
   "source": [
    "If called with no arguments, the `.pop()` method removed the last item from the list and returns it. Or we can pass an index value -- `.pop()` will remove and return the list element at that position."
   ]
  },
  {
   "cell_type": "markdown",
   "metadata": {},
   "source": [
    "Finally, an element can also be removed (i.e., deleted) from a list with the `del` keyword."
   ]
  },
  {
   "cell_type": "code",
   "execution_count": 104,
   "metadata": {},
   "outputs": [
    {
     "data": {
      "text/plain": [
       "[]"
      ]
     },
     "execution_count": 104,
     "metadata": {},
     "output_type": "execute_result"
    }
   ],
   "source": [
    "del list1[0]\n",
    "list1"
   ]
  },
  {
   "cell_type": "markdown",
   "metadata": {},
   "source": [
    "A keyword is a term that has special meaning in a programming language. Keywords cannot be used as variable names. In addition to deleting items from a list, `del` can delete entire variables."
   ]
  },
  {
   "cell_type": "code",
   "execution_count": 105,
   "metadata": {},
   "outputs": [],
   "source": [
    "# Run this cell to delete the list1 variable.\n",
    "del list1"
   ]
  },
  {
   "cell_type": "code",
   "execution_count": 106,
   "metadata": {},
   "outputs": [
    {
     "ename": "NameError",
     "evalue": "name 'list1' is not defined",
     "output_type": "error",
     "traceback": [
      "\u001b[0;31m---------------------------------------------------------------------------\u001b[0m",
      "\u001b[0;31mNameError\u001b[0m                                 Traceback (most recent call last)",
      "\u001b[0;32m<ipython-input-106-d7ed8854da71>\u001b[0m in \u001b[0;36m<module>\u001b[0;34m\u001b[0m\n\u001b[1;32m      1\u001b[0m \u001b[0;31m# Running this cell after deleting list 1 should cause an error.\u001b[0m\u001b[0;34m\u001b[0m\u001b[0;34m\u001b[0m\u001b[0;34m\u001b[0m\u001b[0m\n\u001b[0;32m----> 2\u001b[0;31m \u001b[0mlist1\u001b[0m\u001b[0;34m\u001b[0m\u001b[0;34m\u001b[0m\u001b[0m\n\u001b[0m",
      "\u001b[0;31mNameError\u001b[0m: name 'list1' is not defined"
     ]
    }
   ],
   "source": [
    "# Running this cell after deleting list 1 should cause an error.\n",
    "list1"
   ]
  },
  {
   "cell_type": "markdown",
   "metadata": {},
   "source": [
    "### List Exercises\n",
    "Here are some list exercises.\n",
    "\n",
    "Run the cell below to define the list `seasons`. Use `seasons` for the next two exercises."
   ]
  },
  {
   "cell_type": "code",
   "execution_count": 107,
   "metadata": {},
   "outputs": [],
   "source": [
    "# Game names for FRC seasons 2011 through 2020\n",
    "seasons = [\"Logo Motion\", \"Rebound Rumble\", \"Ultimate Ascent\", \"Aerial Assist\", \"Recycle Rush\",\n",
    "\"FIRST Stronghold\", \"FIRST Steamworks\", \"FIRST Power Up\", \"Destination: Deep Space\",\n",
    "\"Infinite Recharge\"]"
   ]
  },
  {
   "cell_type": "markdown",
   "metadata": {},
   "source": [
    "**Ex VI.1**. Use list indexing to display the four most recent seasons."
   ]
  },
  {
   "cell_type": "code",
   "execution_count": 114,
   "metadata": {},
   "outputs": [
    {
     "name": "stdout",
     "output_type": "stream",
     "text": [
      "['FIRST Steamworks', 'FIRST Power Up', 'Destination: Deep Space']\n"
     ]
    }
   ],
   "source": [
    "# Ex VI.1:\n",
    "print(seasons [-4:-1])"
   ]
  },
  {
   "cell_type": "markdown",
   "metadata": {},
   "source": [
    "# **Ex VI.2.** Use list indexing to display every other season, starting with \"Rebound Rumble\"."
   ]
  },
  {
   "cell_type": "code",
   "execution_count": null,
   "metadata": {},
   "outputs": [],
   "source": [
    "# Ex VI.2:\n"
   ]
  },
  {
   "cell_type": "markdown",
   "metadata": {},
   "source": [
    "Run the cell below to define the nested list. Used `nested` for the next two exercises."
   ]
  },
  {
   "cell_type": "code",
   "execution_count": 116,
   "metadata": {},
   "outputs": [],
   "source": [
    "nested = [[1, 2, 3], [4, 5, 6], ['a', 'b', 'c']]"
   ]
  },
  {
   "cell_type": "markdown",
   "metadata": {},
   "source": [
    "**Ex VI.3.** Use indexing to access the 1st element of the third list (the 'a')."
   ]
  },
  {
   "cell_type": "code",
   "execution_count": 129,
   "metadata": {},
   "outputs": [
    {
     "data": {
      "text/plain": [
       "'a'"
      ]
     },
     "execution_count": 129,
     "metadata": {},
     "output_type": "execute_result"
    }
   ],
   "source": [
    "# Ex VI.3:\n",
    "nested [2][0]"
   ]
  },
  {
   "cell_type": "markdown",
   "metadata": {},
   "source": [
    "**Ex VI.4.** Use the `len()` function to determine the length of `nested`. What value is returned? Does it make sense? Why? (Write your answers to the questions as a comment.)"
   ]
  },
  {
   "cell_type": "code",
   "execution_count": 130,
   "metadata": {},
   "outputs": [
    {
     "data": {
      "text/plain": [
       "3"
      ]
     },
     "execution_count": 130,
     "metadata": {},
     "output_type": "execute_result"
    }
   ],
   "source": [
    "# Ex VI.4:\n",
    "len(nested)\n",
    "#yes, it contains three lists"
   ]
  },
  {
   "cell_type": "markdown",
   "metadata": {},
   "source": [
    "**Ex VI.5.** What happens if you add the two lists (`seasons` and `nested`) together?"
   ]
  },
  {
   "cell_type": "code",
   "execution_count": 131,
   "metadata": {},
   "outputs": [
    {
     "data": {
      "text/plain": [
       "['Logo Motion',\n",
       " 'Rebound Rumble',\n",
       " 'Ultimate Ascent',\n",
       " 'Aerial Assist',\n",
       " 'Recycle Rush',\n",
       " 'FIRST Stronghold',\n",
       " 'FIRST Steamworks',\n",
       " 'FIRST Power Up',\n",
       " 'Destination: Deep Space',\n",
       " 'Infinite Recharge',\n",
       " [1, 2, 3],\n",
       " [4, 5, 6],\n",
       " ['a', 'b', 'c']]"
      ]
     },
     "execution_count": 131,
     "metadata": {},
     "output_type": "execute_result"
    }
   ],
   "source": [
    "# Ex VI.5: What does seasons + nested return?\n",
    "(seasons + nested)"
   ]
  },
  {
   "cell_type": "markdown",
   "metadata": {},
   "source": [
    "**Ex VI.6.** Use the `.append()` method to add the next number in the series to the list."
   ]
  },
  {
   "cell_type": "code",
   "execution_count": 133,
   "metadata": {},
   "outputs": [],
   "source": [
    "series = [1, 4, 27, 256]"
   ]
  },
  {
   "cell_type": "code",
   "execution_count": 134,
   "metadata": {},
   "outputs": [
    {
     "data": {
      "text/plain": [
       "[1, 4, 27, 256, 7]"
      ]
     },
     "execution_count": 134,
     "metadata": {},
     "output_type": "execute_result"
    }
   ],
   "source": [
    "# Ex VI.6: Use append() method in this cell to add an element to series.\n",
    "series.append(7)\n",
    "series"
   ]
  },
  {
   "cell_type": "markdown",
   "metadata": {},
   "source": [
    "**Ex VI.7.** Use the `.pop()` method to extract the third element of the `seasons` list."
   ]
  },
  {
   "cell_type": "code",
   "execution_count": 160,
   "metadata": {},
   "outputs": [
    {
     "ename": "IndexError",
     "evalue": "pop index out of range",
     "output_type": "error",
     "traceback": [
      "\u001b[0;31m---------------------------------------------------------------------------\u001b[0m",
      "\u001b[0;31mIndexError\u001b[0m                                Traceback (most recent call last)",
      "\u001b[0;32m<ipython-input-160-c26b605b71e1>\u001b[0m in \u001b[0;36m<module>\u001b[0;34m\u001b[0m\n\u001b[1;32m      1\u001b[0m \u001b[0;31m# Ex VI.7\u001b[0m\u001b[0;34m\u001b[0m\u001b[0;34m\u001b[0m\u001b[0;34m\u001b[0m\u001b[0m\n\u001b[0;32m----> 2\u001b[0;31m \u001b[0mseasons\u001b[0m\u001b[0;34m.\u001b[0m\u001b[0mpop\u001b[0m\u001b[0;34m(\u001b[0m\u001b[0;36m3\u001b[0m\u001b[0;34m)\u001b[0m\u001b[0;34m\u001b[0m\u001b[0;34m\u001b[0m\u001b[0m\n\u001b[0m\u001b[1;32m      3\u001b[0m \u001b[0mseasons\u001b[0m\u001b[0;34m\u001b[0m\u001b[0;34m\u001b[0m\u001b[0m\n",
      "\u001b[0;31mIndexError\u001b[0m: pop index out of range"
     ]
    }
   ],
   "source": [
    "# Ex VI.7\n",
    "seasons.pop(3)\n",
    "seasons"
   ]
  },
  {
   "cell_type": "markdown",
   "metadata": {},
   "source": [
    "## VII. The `input()` Function\n",
    "Now that we know a bit about data types, we can learn about the input function. Run the next cell."
   ]
  },
  {
   "cell_type": "code",
   "execution_count": 141,
   "metadata": {},
   "outputs": [
    {
     "name": "stdout",
     "output_type": "stream",
     "text": [
      "What is your name? bob\n",
      "Hello bob. It's nice to meet you!\n"
     ]
    }
   ],
   "source": [
    "# Run this cell to learn about the input function\n",
    "\n",
    "name = input(\"What is your name? \")\n",
    "print(\"Hello \", name, \". It's nice to meet you!\", sep=\"\")"
   ]
  },
  {
   "cell_type": "markdown",
   "metadata": {},
   "source": [
    "Similar to the `print()` function, the `input()` function displays whatever text is passed to it on the screen. It also displays a prompt and allows the user to type characters. As soon as the user presses ENTER, whatever text the user typed will be saved to the variable on the left side of the assignment statement (the equals sign).\n",
    "\n",
    "Now look at the code in the next cell but don't run it yet. Will the code work? Why or why not? Check your answer by running the code."
   ]
  },
  {
   "cell_type": "code",
   "execution_count": 142,
   "metadata": {},
   "outputs": [
    {
     "name": "stdout",
     "output_type": "stream",
     "text": [
      "Enter a number: 2\n"
     ]
    },
    {
     "ename": "TypeError",
     "evalue": "unsupported operand type(s) for ** or pow(): 'str' and 'int'",
     "output_type": "error",
     "traceback": [
      "\u001b[0;31m---------------------------------------------------------------------------\u001b[0m",
      "\u001b[0;31mTypeError\u001b[0m                                 Traceback (most recent call last)",
      "\u001b[0;32m<ipython-input-142-aba998db6ee9>\u001b[0m in \u001b[0;36m<module>\u001b[0;34m\u001b[0m\n\u001b[1;32m      1\u001b[0m \u001b[0;31m# Will this work?\u001b[0m\u001b[0;34m\u001b[0m\u001b[0;34m\u001b[0m\u001b[0;34m\u001b[0m\u001b[0m\n\u001b[1;32m      2\u001b[0m \u001b[0mnum\u001b[0m \u001b[0;34m=\u001b[0m \u001b[0minput\u001b[0m\u001b[0;34m(\u001b[0m\u001b[0;34m\"Enter a number: \"\u001b[0m\u001b[0;34m)\u001b[0m\u001b[0;34m\u001b[0m\u001b[0;34m\u001b[0m\u001b[0m\n\u001b[0;32m----> 3\u001b[0;31m \u001b[0mprint\u001b[0m\u001b[0;34m(\u001b[0m\u001b[0;34m\"The square of\"\u001b[0m\u001b[0;34m,\u001b[0m \u001b[0mnum\u001b[0m\u001b[0;34m,\u001b[0m \u001b[0;34m\"is\"\u001b[0m\u001b[0;34m,\u001b[0m \u001b[0mnum\u001b[0m\u001b[0;34m**\u001b[0m\u001b[0;36m2\u001b[0m\u001b[0;34m,\u001b[0m \u001b[0;34m\"!\"\u001b[0m\u001b[0;34m)\u001b[0m\u001b[0;34m\u001b[0m\u001b[0;34m\u001b[0m\u001b[0m\n\u001b[0m",
      "\u001b[0;31mTypeError\u001b[0m: unsupported operand type(s) for ** or pow(): 'str' and 'int'"
     ]
    }
   ],
   "source": [
    "# Will this work?\n",
    "num = input(\"Enter a number: \")\n",
    "print(\"The square of\", num, \"is\", num**2, \"!\")"
   ]
  },
  {
   "cell_type": "markdown",
   "metadata": {},
   "source": [
    "The code didn't work because `input()` always returns a string and Python doesn't know how to square a string (I don't either). We can make this code better with the `int()` function."
   ]
  },
  {
   "cell_type": "code",
   "execution_count": null,
   "metadata": {},
   "outputs": [],
   "source": [
    "# This should work.\n",
    "num = input(\"Enter a number: \")\n",
    "num = int(num)\n",
    "print(\"The square of\", num, \"is\", num**2, \"!\")"
   ]
  },
  {
   "cell_type": "markdown",
   "metadata": {},
   "source": [
    "Even this code will throw an error if the user enters text that is not an integer. We will learn how to check user input later on."
   ]
  },
  {
   "cell_type": "markdown",
   "metadata": {},
   "source": [
    "### Exercises with `input()`\n",
    "\n",
    "**Ex VII.1.** Use the `input()` function to ask the user for their name, and then display their name in reverse order."
   ]
  },
  {
   "cell_type": "code",
   "execution_count": 150,
   "metadata": {},
   "outputs": [
    {
     "name": "stdout",
     "output_type": "stream",
     "text": [
      "Whats your name123\n",
      "\n"
     ]
    }
   ],
   "source": [
    "# Ex VII.1\n",
    "name = input(\"Whats your name\")\n",
    "name = name[0:3:-1]\n",
    "print(name)"
   ]
  },
  {
   "cell_type": "markdown",
   "metadata": {},
   "source": [
    "**Ex VII.2.** Use the `input()` function to ask the user for an integer and then print a message stating whether the number is even or odd. Don't forget to convert the input to an integer!"
   ]
  },
  {
   "cell_type": "code",
   "execution_count": 151,
   "metadata": {},
   "outputs": [],
   "source": [
    "# Ex VII.2\n"
   ]
  },
  {
   "cell_type": "markdown",
   "metadata": {},
   "source": [
    "**Ex VIII.3.** The official documentation for `input()` [is here.](https://docs.python.org/3/library/functions.html#input) Make up your own exercise with the `input()` function. Ask the user for some information, so something with the information, and display the results to the user."
   ]
  },
  {
   "cell_type": "code",
   "execution_count": null,
   "metadata": {},
   "outputs": [],
   "source": [
    "# Ex VII.3\n"
   ]
  },
  {
   "cell_type": "markdown",
   "metadata": {},
   "source": [
    "## VIII. Python Tutorial\n",
    "For some extra practice, try some of the examples from the *Python Tutorial*.\n",
    "\n",
    "[Section 3.1.3](https://docs.python.org/3/tutorial/introduction.html#lists) covers lists."
   ]
  },
  {
   "cell_type": "code",
   "execution_count": null,
   "metadata": {},
   "outputs": [],
   "source": [
    "# Examples from Python Tutorial Section 3.1.3 on lists\n",
    "\n"
   ]
  },
  {
   "cell_type": "markdown",
   "metadata": {},
   "source": [
    "[Section 5.2](https://docs.python.org/3/tutorial/datastructures.html#the-del-statement) covers the `del` keyword."
   ]
  },
  {
   "cell_type": "code",
   "execution_count": null,
   "metadata": {},
   "outputs": [],
   "source": [
    "# Practice with del keyword\n",
    "\n"
   ]
  },
  {
   "cell_type": "markdown",
   "metadata": {},
   "source": [
    "## IX. More Exercises"
   ]
  },
  {
   "cell_type": "markdown",
   "metadata": {},
   "source": [
    "#### Ex IX.1. Tip Calculator\n",
    "\n",
    "Below, you can see the script we wrote to compute the tip for a meal.  Fix it so that it works correctly. Expect the input to be a **number.** Please format the output to 2 decimal places. [For a hint on rounding, check here.](https://docs.python.org/3/library/functions.html#round)"
   ]
  },
  {
   "cell_type": "code",
   "execution_count": null,
   "metadata": {},
   "outputs": [],
   "source": [
    "# Leave this cell alone.\n",
    "price = input(\"Enter the price of a meal: \")\n",
    "\n",
    "tip = price * 0.16\n",
    "total = price + tip\n",
    "\n",
    "print(\"A 16% tip would be:\", tip)\n",
    "print(\"The total including tip would be:\", total)"
   ]
  },
  {
   "cell_type": "code",
   "execution_count": 158,
   "metadata": {},
   "outputs": [
    {
     "name": "stdout",
     "output_type": "stream",
     "text": [
      "Enter the price of a meal: 10\n",
      "A 16% tip would be: 1.6\n",
      "The total including tip would be: 11.6\n"
     ]
    }
   ],
   "source": [
    "# Ex IX.1: Put the corrected code here:\n",
    "price = input(\"Enter the price of a meal: \")\n",
    "\n",
    "tip = float(price) * 0.16\n",
    "total = float(price) + tip\n",
    "\n",
    "print(\"A 16% tip would be:\", tip)\n",
    "print(\"The total including tip would be:\", total)"
   ]
  },
  {
   "cell_type": "markdown",
   "metadata": {},
   "source": [
    "**Ex IX.2. Upgraded Tip Calculator**\n",
    "\n",
    "Modify the tip calculator program above so that it asks the user for the tip percentage after asking for the meal price. Use the tip percentage provided by the user to calculate the tip."
   ]
  },
  {
   "cell_type": "code",
   "execution_count": null,
   "metadata": {},
   "outputs": [],
   "source": [
    "# Ex IX.2\n",
    "price = input(\"Enter the price of a meal: \")\n",
    "\n",
    "total = float(price) + tip\n",
    "\n",
    "print(\"The total including tip would be:\", total)\n",
    "tip = input(\"what is your tip?\")\n",
    "float(tip) "
   ]
  },
  {
   "cell_type": "markdown",
   "metadata": {},
   "source": [
    "#### Ex IX.3. Gas Pump Informer.\n",
    "Write a script that prompts the user for a **number** of gallons of gasoline. Reprint that value, along with its conversion to other measurements:\n",
    "\n",
    "- Equivalent number of liters (format to 4 decimals)\n",
    "- Number of barrels of oil required to produce it (format to 3 decimals)\n",
    "- Price in U.S. dollars (format to 2 decimals)\n",
    "\n",
    "Use the conversions list to convert the values. For clarity, the conversion factors are listed below.\n",
    "\n",
    "- 1 gallon is equivalent to 3.7854 liters.\n",
    "- 1 barrel of oil produces 19.5 gallons of gas.\n",
    "- The average price of gas is approximately $3.65 per gallon."
   ]
  },
  {
   "cell_type": "code",
   "execution_count": null,
   "metadata": {},
   "outputs": [],
   "source": [
    "# Ex IX.3:\n",
    "conversions = [3.7854, 19.5, 3.65]\n",
    "\n"
   ]
  },
  {
   "cell_type": "markdown",
   "metadata": {},
   "source": [
    "## X. Quiz to Check Your Knowledge\n",
    "Write the answers as Python comments in the code cell below each question.\n",
    "\n",
    "**#1.** What data type would be used for an object that stores the number 2.71828?"
   ]
  },
  {
   "cell_type": "code",
   "execution_count": null,
   "metadata": {},
   "outputs": [],
   "source": [
    "float"
   ]
  },
  {
   "cell_type": "markdown",
   "metadata": {},
   "source": [
    "**#2.** What is the difference between a function and a method?"
   ]
  },
  {
   "cell_type": "code",
   "execution_count": null,
   "metadata": {},
   "outputs": [],
   "source": [
    "method performes a proceder on a statted thing, and function changes a thing"
   ]
  },
  {
   "cell_type": "markdown",
   "metadata": {},
   "source": [
    "**#3.** What data type will result from the statement `2 + 2.0`?"
   ]
  },
  {
   "cell_type": "code",
   "execution_count": null,
   "metadata": {},
   "outputs": [],
   "source": [
    "float"
   ]
  },
  {
   "cell_type": "markdown",
   "metadata": {},
   "source": [
    "**#4.** What index number is used to extract the first element from a list? The last element?"
   ]
  },
  {
   "cell_type": "markdown",
   "metadata": {},
   "source": [
    "1 and -1"
   ]
  },
  {
   "cell_type": "markdown",
   "metadata": {},
   "source": [
    "**#5.** What will the output be from the following code? Try to figure out the answer without running the code.\n",
    "```Python\n",
    "ex5_list = [11, 12, 13, 14, 15, 16, 17, 18, 19, 20]\n",
    "print(ex5_list[2:6]\n",
    "```"
   ]
  },
  {
   "cell_type": "markdown",
   "metadata": {},
   "source": [
    "13, 14, 15, 16, 17"
   ]
  },
  {
   "cell_type": "markdown",
   "metadata": {},
   "source": [
    "**6.** What is the difference between the `.pop()` method and the `del` keyword?"
   ]
  },
  {
   "cell_type": "code",
   "execution_count": null,
   "metadata": {},
   "outputs": [],
   "source": [
    "pop is a method and del is a function"
   ]
  },
  {
   "cell_type": "markdown",
   "metadata": {},
   "source": [
    "**7.** What function will get an object's unique identifier code?"
   ]
  },
  {
   "cell_type": "code",
   "execution_count": null,
   "metadata": {},
   "outputs": [],
   "source": [
    "id()"
   ]
  },
  {
   "cell_type": "markdown",
   "metadata": {},
   "source": [
    "**8.** Name at least two methods that can be used on a string object."
   ]
  },
  {
   "cell_type": "code",
   "execution_count": null,
   "metadata": {},
   "outputs": [],
   "source": [
    ".append() .pop()"
   ]
  },
  {
   "cell_type": "markdown",
   "metadata": {},
   "source": [
    "## XI. Save Your Work\n",
    "Once you have completed the exercises, go to the *File* menu above and select *Download As->HTML*. Download an HTML version of this page that shows the completed exercises. Send this file to another student to check your answers."
   ]
  },
  {
   "cell_type": "markdown",
   "metadata": {},
   "source": [
    "## XII. Concept and Terminology Review\n",
    "You should be able to define the following terms or drescribe the concept. Re-review this session if any of these are unfamiliar.\n",
    "* Return values\n",
    "* Data types\n",
    "* `type()` function\n",
    "* Integers\n",
    "* Floats\n",
    "* Strings\n",
    "* `int()` function\n",
    "* `float()` function\n",
    "* `str()` function\n",
    "* Object\n",
    "* Method\n",
    "* `id()` function\n",
    "* `.upper()` string method\n",
    "* `.lower()` string method\n",
    "* `.title()` string method\n",
    "* Lists\n",
    "* List indexing\n",
    "* List slicing\n",
    "* `append()` list method\n",
    "* `.pop()` list method\n",
    "* `del` keyword\n",
    "* `len()` function\n",
    "* `input()` function"
   ]
  },
  {
   "cell_type": "markdown",
   "metadata": {},
   "source": [
    "## XIII. Data Type Humor\n",
    "\n",
    "### An integer walks up to a string and asks for its number.\n",
    "The string replies, \"Sorry, you're not my type.\"\n",
    "\n",
    "### Why can't integers swim?\n",
    "Because they can't float.\n",
    "\n",
    "### I tried to explain what integers are...\n",
    "It was pointless."
   ]
  },
  {
   "cell_type": "markdown",
   "metadata": {},
   "source": [
    "[Table of Contents](../../index.ipynb)"
   ]
  }
 ],
 "metadata": {
  "kernelspec": {
   "display_name": "Python 3",
   "language": "python",
   "name": "python3"
  },
  "language_info": {
   "codemirror_mode": {
    "name": "ipython",
    "version": 3
   },
   "file_extension": ".py",
   "mimetype": "text/x-python",
   "name": "python",
   "nbconvert_exporter": "python",
   "pygments_lexer": "ipython3",
   "version": "3.8.5"
  }
 },
 "nbformat": 4,
 "nbformat_minor": 4
}
